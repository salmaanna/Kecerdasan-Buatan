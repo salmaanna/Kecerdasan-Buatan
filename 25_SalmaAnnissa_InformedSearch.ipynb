{
  "nbformat": 4,
  "nbformat_minor": 0,
  "metadata": {
    "colab": {
      "provenance": [],
      "collapsed_sections": [],
      "authorship_tag": "ABX9TyMp+dHq9i6I2GsQdWEcq9UQ",
      "include_colab_link": true
    },
    "kernelspec": {
      "name": "python3",
      "display_name": "Python 3"
    },
    "language_info": {
      "name": "python"
    }
  },
  "cells": [
    {
      "cell_type": "markdown",
      "metadata": {
        "id": "view-in-github",
        "colab_type": "text"
      },
      "source": [
        "<a href=\"https://colab.research.google.com/github/salmaanna/Kecerdasan-Buatan/blob/main/25_SalmaAnnissa_InformedSearch.ipynb\" target=\"_parent\"><img src=\"https://colab.research.google.com/assets/colab-badge.svg\" alt=\"Open In Colab\"/></a>"
      ]
    },
    {
      "cell_type": "markdown",
      "source": [
        "SALMA ANNISSA AZIZI\n",
        "\n",
        "2141720137\n",
        "\n",
        "TI - 2B / 25\n",
        "\n",
        "\n",
        "\n",
        "\n",
        "\n",
        "\n",
        "\n",
        " "
      ],
      "metadata": {
        "id": "76t64R_tqpHM"
      }
    },
    {
      "cell_type": "markdown",
      "source": [
        "## Praktikum. Percobaan 1: A* Search"
      ],
      "metadata": {
        "id": "w6_VkdROsQDa"
      }
    },
    {
      "cell_type": "code",
      "execution_count": null,
      "metadata": {
        "colab": {
          "base_uri": "https://localhost:8080/"
        },
        "id": "GyukGJcAc7VT",
        "outputId": "66b1c9be-f671-4be4-ebdf-48126b74174a"
      },
      "outputs": [
        {
          "output_type": "stream",
          "name": "stdout",
          "text": [
            "Path found: ['A', 'B', 'D']\n"
          ]
        },
        {
          "output_type": "execute_result",
          "data": {
            "text/plain": [
              "['A', 'B', 'D']"
            ]
          },
          "metadata": {},
          "execution_count": 8
        }
      ],
      "source": [
        "class Graph:\n",
        "    def __init__(self, adjacency_list):\n",
        "        self.adjacency_list = adjacency_list\n",
        "    \n",
        "    def get_neighbors(self, v):\n",
        "        return self.adjacency_list[v]\n",
        "\n",
        "    def h(self, n):\n",
        "        H = {\n",
        "            'A':1,\n",
        "            'B':1,\n",
        "            'C':1,\n",
        "            'D':1\n",
        "        }\n",
        "\n",
        "        return H[n]\n",
        "\n",
        "    def a_star_algorithm(self, start_node, stop_node):\n",
        "        open_list = set([start_node])\n",
        "        closed_list = set([])\n",
        "\n",
        "        g = {}\n",
        "\n",
        "        g[start_node] = 0\n",
        "\n",
        "        parents = {}\n",
        "        parents[start_node] = start_node\n",
        "\n",
        "        while len(open_list) > 0:\n",
        "            n = None\n",
        "\n",
        "            for v in open_list:\n",
        "                if n == None or g[v] + self.h(v) < g[n] + self.h(n):\n",
        "                    n = v;\n",
        "\n",
        "            if n == None:\n",
        "                print('Path does not exist!')\n",
        "                return None\n",
        "\n",
        "            if n == stop_node:\n",
        "                reconst_path = []\n",
        "\n",
        "                while parents[n] != n:\n",
        "                    reconst_path.append(n)\n",
        "                    n = parents[n]\n",
        "\n",
        "                reconst_path.append(start_node)\n",
        "\n",
        "                reconst_path.reverse()\n",
        "\n",
        "                print('Path found: {}'.format(reconst_path))\n",
        "                return reconst_path\n",
        "\n",
        "            for(m, weight) in self.get_neighbors(n):\n",
        "                \n",
        "                if m not in open_list and m not in closed_list:\n",
        "                    open_list.add(m)\n",
        "                    parents[m] = n\n",
        "                    g[m] = g[n] + weight\n",
        "\n",
        "                else:\n",
        "                    if g[m] > g[n] + weight:\n",
        "                        g[m] = g[n] + weight\n",
        "                        parents[m] = n\n",
        "\n",
        "                        if m in closed_list:\n",
        "                            closed_list.remove(m)\n",
        "                            open_list.add(m)\n",
        "\n",
        "            open_list.remove(n)\n",
        "            closed_list.add(n)\n",
        "\n",
        "        print('Path does not exist')\n",
        "        return None\n",
        "\n",
        "adjacency_list = {\n",
        "    'A': [('B',1),('C',3),('D',7)],\n",
        "    'B': [('D',5)],\n",
        "    'C': [('D',12)]\n",
        "}\n",
        "\n",
        "graph1 = Graph(adjacency_list)\n",
        "graph1.a_star_algorithm('A','D')"
      ]
    },
    {
      "cell_type": "markdown",
      "source": [
        "### PERTANYAAN\n",
        "1.   Amati output pada percobaan 1, dan jelaskan bagaimana hasilnya?\n",
        "  \n",
        "  Jawab :\n",
        "  - Berdasarkan pengamatan saya, program di atas menemukan path yang dicari. Path yang ditemukan yaitu 'A', 'B', 'D'.\n",
        "\n",
        "1.   Jelaskan tahapan-tahapan pada fungsi algoritma A*di percobaan 1 langkah ke-2 yang sudah dijelaskan di atas!\n",
        "\n",
        "  Jawab :\n",
        "  - Langkah pertama yaitu node tetangga akan dihampiri terlebih dahulu\n",
        "  - Pada langkah berikutnya daftar node yang sudah dihampiri disimpan \n",
        "  - Setelah node yang disimpan, maka dihitung jarak antar node\n",
        "  - Selesai dihitung jarak antar node maka ditentukan induk dari semua node\n",
        "  - Mencari nilai terendah\n",
        "  - Melakukan rekonstruksi path kepada node awal ketika mencapai node terakhir\n",
        "2.   Apakah tujuan pembuatan fungsi heuristik?\n",
        "\n",
        "  Jawab :\n",
        "  - Untuk memberikan nilai yang sama pada setiap node\n",
        "2.   Bagaimanakah kompleksitas waktu pada algoritma A*? Jelaskan dan beri contoh!\n",
        "\n",
        "  Jawab :\n",
        "  - Kompleks tidaknya algoritma Astar bergantung kepada heuristicnya. Dalam algoritma A* kasus terburuk yang dapat terjadi adalah jumlah simpul yang diekspansi eksponensial dalam solusi jarak terpendek dan jika tidak ditemukan maka akan terjadi infinite loop.\n",
        "1.   Jelaskan maksud dari code program di bawah ini:\n",
        "\n",
        "  ![SOAL1.PNG](data:image/png;base64,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)\n",
        "\n",
        "  Jawab :\n",
        "  - Ditunjukkan pada node A tersambung node B dan C. Sedangkan node B tersambung ke node D. Serta node C menyambung ke node D juga. Maka terbentuklah sebuah graph yang diantara titik-titiknya memiliki sambungan antar satu sama lain."
      ],
      "metadata": {
        "id": "50fQvfhtsJv6"
      }
    },
    {
      "cell_type": "markdown",
      "source": [
        "## Tugas"
      ],
      "metadata": {
        "id": "co1DbDAQECuo"
      }
    },
    {
      "cell_type": "markdown",
      "source": [
        "SOAL 1\n",
        "\n",
        "Ubahlah kode program pada Percobaan 2 menggunakan metode pencarian jarak\n",
        "yang lain, selain Euclidean distance!"
      ],
      "metadata": {
        "id": "nNrK1iCWEUra"
      }
    },
    {
      "cell_type": "code",
      "source": [
        "# GREEDY ALGORITHM\n",
        "\n",
        "DAG = {\n",
        "    'A': {'B': 1, 'C': 3, 'D': 7},\n",
        "    'B': {'D': 5},\n",
        "    'C': {'D': 1}\n",
        "}\n",
        "\n",
        "def shortest_path(graph, source, dest):\n",
        "    result = []\n",
        "    result.append(source)\n",
        "\n",
        "    while dest not in result:\n",
        "        current_node = result[-1]\n",
        "        local_max = min(graph[current_node].values())\n",
        "        for node, weight in graph[current_node].items():\n",
        "            if weight == local_max:\n",
        "                result.append(node)\n",
        "    return result\n",
        "\n",
        "print(\"Hasil pencarian algoritma Greedy: \")\n",
        "shortest_path(DAG, 'A', 'D')"
      ],
      "metadata": {
        "colab": {
          "base_uri": "https://localhost:8080/"
        },
        "id": "YK2SKUPyFK4a",
        "outputId": "cc2e3d5a-c519-4f84-dc7d-f6d6c52b6082"
      },
      "execution_count": 1,
      "outputs": [
        {
          "output_type": "stream",
          "name": "stdout",
          "text": [
            "Hasil pencarian algoritma Greedy: \n"
          ]
        },
        {
          "output_type": "execute_result",
          "data": {
            "text/plain": [
              "['A', 'B', 'D']"
            ]
          },
          "metadata": {},
          "execution_count": 1
        }
      ]
    },
    {
      "cell_type": "markdown",
      "source": [
        "SOAL NO 2\n",
        "\n",
        "Jelaskan perbedaan hasilnya pada tugas No. 1!\n",
        "\n",
        "Jawab :\n",
        "- Perbedaan dari kedua algoritma A* dan Greedy terletak pada kompleksitas dan waktu untuk menemukan hasil yang diinginkan. Astar memiliki iterasi yang banyak sehingga dibutuhkan waktu yang lama untuk mengeksekusi, sedangkan algoritma Greedy memiliki iterais yang cukup singkat sehingga kompleksitas waktu yang dibutuhkan tidak terlalu lama dan hasilnya sesuai."
      ],
      "metadata": {
        "id": "RIVCdFneFwNi"
      }
    },
    {
      "cell_type": "markdown",
      "source": [
        "SOAL NO 3\n",
        "\n",
        "Dapatkah algoritma A* diterapkan untuk graph yang tidak berbobot? Jika tidak,\n",
        "apakah alasanya?\n",
        "\n",
        "Jawab :\n",
        "- Algoritma Astar tidak dapat digunakan untuk graph yang tidak berbobot. Hal ini dikarenakan Astar membutuhkan nilai atau bobot untuk menentukan jalur mana yang akan lebih cepat ditempuh antara satu sama lain."
      ],
      "metadata": {
        "id": "sH7x0BqAG_1q"
      }
    },
    {
      "cell_type": "markdown",
      "source": [
        "SOAL NO 4\n",
        "\n",
        "Carilah kegunaan algoritma A* yang diimplementasikan pada game. Jelaskan tahapanya dan juga tampilkan game atau langkah-langkah pembuatanya!\n",
        "\n",
        "Jawab :\n",
        "- Dalam game puzzle angka algoritma A* digunakan untuk menentukan bilik mana yang akan digeser terlebih dahulu.\n",
        "- TAHAP PENCARIAN NILAI : Pertama dilakukan pencarian nilai heuristik terbesar antara bilik yang kosong dengan puzzle di dekatnya. Jika menemukan nilai heuristik terbesar maka puzzle tersebut yang digeser. Langkah selanjutnya dilakukan seperti langkah sebelumnya dengan cara berulang. Dan jika puzzle sudah sesuai maka algoritma selesai."
      ],
      "metadata": {
        "id": "GyfJe_-pHtOt"
      }
    },
    {
      "cell_type": "markdown",
      "source": [
        "## Praktikum. Percobaan 2: Implementasi Algoritma Greedy"
      ],
      "metadata": {
        "id": "8tXKms9SNiJk"
      }
    },
    {
      "cell_type": "code",
      "source": [
        "DAG = {\n",
        "    'A': {'C': 4, 'G': 9},\n",
        "    'G': {'E': 6},\n",
        "    'C': {'D': 6, 'H': 12},\n",
        "    'D': {'E': 7},\n",
        "    'H': {'F': 15},\n",
        "    'E': {'F': 8},\n",
        "    'F': {'B': 5}\n",
        "}\n",
        "\n",
        "def shortest_path(graph, source, dest):\n",
        "    result = []\n",
        "    result.append(source)\n",
        "\n",
        "    while dest not in result:\n",
        "        current_node = result[-1]\n",
        "        local_max = min(graph[current_node].values())\n",
        "        for node, weight in graph[current_node].items():\n",
        "            if weight == local_max:\n",
        "                result.append(node)\n",
        "    return result\n",
        "\n",
        "print(\"Hasil pencarian algoritma Greedy: \")\n",
        "shortest_path(DAG, 'A', 'F')\n"
      ],
      "metadata": {
        "colab": {
          "base_uri": "https://localhost:8080/"
        },
        "id": "cDT0aSAMOTnc",
        "outputId": "75220a72-9652-4d10-fae7-e22255016bb6"
      },
      "execution_count": 2,
      "outputs": [
        {
          "output_type": "stream",
          "name": "stdout",
          "text": [
            "Hasil pencarian algoritma Greedy: \n"
          ]
        },
        {
          "output_type": "execute_result",
          "data": {
            "text/plain": [
              "['A', 'C', 'D', 'E', 'F']"
            ]
          },
          "metadata": {},
          "execution_count": 2
        }
      ]
    },
    {
      "cell_type": "markdown",
      "source": [
        "### PERTANYAAN\n",
        "\n",
        "1.   Amati output pada percobaan 1, dan Jelaskan bagaimana hasilnya? Jangan lupa tambahkan line-code untuk menampilkan jalur pencarian dengan A sebagai titik awal dan F sebagai tujuan!\n",
        "\n",
        "  Jawab :\n",
        "  - Program akan memberikan output dengan A sebagai node awal dan F sebagai node akhir atau tujuan melewati trak 'A' - 'C' - 'D' - 'E' - 'F'\n",
        "2.   Jelaskan tahapan-tahapan pada fungsi algoritma Greedy di percobaan 1 langkah ke\n",
        "2 yang sudah dijelaskan di atas.\n",
        "\n",
        "  Jawab :\n",
        "  - Digunakan untuk menelusuri masalah. Dengan melakukan pemilihan local maximum dair pilihan yang ada di setiap langkahnya. Juga untuk mengisikan nilai lokal maksimum ke solusi keseluruhan. Dan didapatkan akhir sebuah solusi.\n",
        "1.   Bagaimanakah kompleksitas waktu pada algoritma Greedy? Jelaskan dan beri\n",
        "contoh!\n",
        "\n",
        "  Jawab :\n",
        "  - Kompleksitas algoritma Greedy adalah O(nx2^n) yang di kebanyakan kasus, algoritma ini tidak menghasilkan solusi optimal. Algoritma ini memberikan solusi yang cepat. \n",
        "2.   Tampilkan urutan simpul dari lintasan yang dipilih oleh algoritma greedy search dan\n",
        "hitung path cost-nya.\n",
        "\n",
        "  Jawab :\n",
        "  - A, C, D, E, F = 4 + 6 + 7 + 8 = 25\n",
        "\n",
        "\n",
        "\n"
      ],
      "metadata": {
        "id": "TIparu0XO5uA"
      }
    },
    {
      "cell_type": "markdown",
      "source": [
        "## Praktikum. Menyelesaikan Knapsack Problem dengan Algoritma Greedy"
      ],
      "metadata": {
        "id": "_of09g_UUHcK"
      }
    },
    {
      "cell_type": "code",
      "source": [
        "from operator import itemgetter, attrgetter\n",
        "w = [3, 4, 1, 7, 6, 8, 9]\n",
        "p = [4, 5, 2, 5, 5, 8, 11]\n",
        "item = [[3, 4], [4, 5], [1, 2], [7, 5], [6, 5], [8, 8], [9, 11]]\n",
        "\n",
        "i = 0\n",
        "while i < len(item):\n",
        "    hasil = item[i][1]/item[i][0]\n",
        "    item[i].append(hasil)\n",
        "    i += 1\n",
        "\n",
        "data = sorted(item, key=itemgetter(2), reverse=True)\n",
        "\n",
        "\n",
        "def knapsack(data, cap, flag):\n",
        "    total = 0\n",
        "    tres = \"\"\n",
        "    if (flag == 0):\n",
        "        dataS = sorted(data, key=itemgetter(flag), reverse=True)\n",
        "        tres = \"Bobot Prioritas: \"\n",
        "    elif (flag == 1):\n",
        "        dataS = sorted(data, key=itemgetter(flag), reverse=True)\n",
        "        tres = \"Keuntungan Prioritas: \"\n",
        "    elif (flag == 2):\n",
        "        dataS = sorted(data, key=itemgetter(flag), reverse=True)\n",
        "        tres = \"P Prioritas: \"\n",
        "    else:\n",
        "        return \"Error\"\n",
        "\n",
        "    j = 0\n",
        "    hasil = 0\n",
        "\n",
        "    # print(\"sini\")\n",
        "    cek = 0\n",
        "    weight = 0\n",
        "    while (j < len(dataS)):\n",
        "\n",
        "        if (cek + dataS[j][0] <= cap):\n",
        "            hasil = hasil + dataS[j][1]\n",
        "            weight = weight + dataS[j][0]\n",
        "            print(dataS[j][0])\n",
        "        cek = weight\n",
        "        j += 1\n",
        "\n",
        "        # print(\"here\")\n",
        "        return (\"Optimal dalam \" + str(tres) + str(hasil))\n",
        "\n",
        "\n",
        "print(knapsack(item, 20, 0))\n",
        "print(knapsack(item, 20, 1))\n",
        "print(knapsack(item, 20, 2))"
      ],
      "metadata": {
        "colab": {
          "base_uri": "https://localhost:8080/"
        },
        "id": "O4Qul3mXUPRJ",
        "outputId": "255a1fbd-38a7-4751-afa4-9dabb240ed94"
      },
      "execution_count": 5,
      "outputs": [
        {
          "output_type": "stream",
          "name": "stdout",
          "text": [
            "9\n",
            "Optimal dalam Bobot Prioritas: 11\n",
            "9\n",
            "Optimal dalam Keuntungan Prioritas: 11\n",
            "1\n",
            "Optimal dalam P Prioritas: 2\n"
          ]
        }
      ]
    },
    {
      "cell_type": "markdown",
      "source": [
        "### PERTANYAAN\n",
        "1.   Amati output pada percobaan 2, dan Jelaskan bagaimana hasilnya?\n",
        "\n",
        "  Jawab :\n",
        "  - Output yang dihasilkan adalah knapsack dalam kondisi flag 0 hingga 2 menampilkan return pengoptimalan.\n",
        "2.   Jelaskan tahapan-tahapan pada fungsi algoritma Greedy di percobaan 2 langkah ke\n",
        "2 yang sudah dijelaskan di atas!\n",
        "\n",
        "  Jawab :\n",
        "  - Perulangan dilakukan pada item untuk menentukan hasil\n",
        "  - Fungsi knapsack, jika flagnya = 0 maka akan dilakukan penyortiran flag = 0\n",
        "  - Fungsi knapsack, jika flagnya = 1 maka akan dilakukan penyortiran flag = 1\n",
        "  - Fungsi knapsack, jika flagnya = 2 maka akan dilakukan penyortiran flag = 2\n",
        "  - Kemudian melakukan perulangan untuk menentukan hasil dan bobot\n",
        "  - Kemudian nilai hasil dikembalikan\n",
        "\n"
      ],
      "metadata": {
        "id": "XbpEWmoRgEE3"
      }
    }
  ]
}