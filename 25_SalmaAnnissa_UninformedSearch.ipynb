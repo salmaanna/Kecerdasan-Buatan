{
  "nbformat": 4,
  "nbformat_minor": 0,
  "metadata": {
    "colab": {
      "provenance": [],
      "authorship_tag": "ABX9TyN7oq7WIoMBWO8Af47RfX6v",
      "include_colab_link": true
    },
    "kernelspec": {
      "name": "python3",
      "display_name": "Python 3"
    },
    "language_info": {
      "name": "python"
    }
  },
  "cells": [
    {
      "cell_type": "markdown",
      "metadata": {
        "id": "view-in-github",
        "colab_type": "text"
      },
      "source": [
        "<a href=\"https://colab.research.google.com/github/salmaanna/Kecerdasan-Buatan/blob/main/25_SalmaAnnissa_UninformedSearch.ipynb\" target=\"_parent\"><img src=\"https://colab.research.google.com/assets/colab-badge.svg\" alt=\"Open In Colab\"/></a>"
      ]
    },
    {
      "cell_type": "markdown",
      "source": [
        "**Nama : SALMA ANNISSA AZIZI**\n",
        "\n",
        "**NIM : 2141720137**\n",
        "\n",
        "**KELAS : TI - 2B**\n",
        "\n"
      ],
      "metadata": {
        "id": "N2oCyGwJWJFs"
      }
    },
    {
      "cell_type": "code",
      "execution_count": null,
      "metadata": {
        "colab": {
          "base_uri": "https://localhost:8080/"
        },
        "id": "PzUyre6a3ZQF",
        "outputId": "ad5f875f-c9f2-4252-c92b-d1280cf70518"
      },
      "outputs": [
        {
          "output_type": "stream",
          "name": "stdout",
          "text": [
            "Hasil penelusuran graf menggunakan BFS: \n",
            "A B C D E F H G "
          ]
        }
      ],
      "source": [
        "graph = {\n",
        "    'A' : ['B', 'C'],\n",
        "    'B' : ['D', 'E'],\n",
        "    'C' : ['F'],\n",
        "    'D' : [],\n",
        "    'E' : ['F'],\n",
        "    'F' : ['H'],\n",
        "    'G' : ['H'],\n",
        "    'H' : ['G']\n",
        "}\n",
        "\n",
        "visited = []\n",
        "queue = []\n",
        "\n",
        "def bfs (visited, graph, node):\n",
        "  visited.append(node)\n",
        "  queue.append(node)\n",
        "\n",
        "  while queue :\n",
        "    s = queue.pop(0)\n",
        "    print (s, end = \" \")\n",
        "\n",
        "    for neighbour in graph[s]:\n",
        "      if neighbour not in visited:\n",
        "        visited.append(neighbour)\n",
        "        queue.append(neighbour)\n",
        "\n",
        "print(\"Hasil penelusuran graf menggunakan BFS: \")\n",
        "bfs(visited, graph, 'A')"
      ]
    },
    {
      "cell_type": "markdown",
      "source": [
        "**PERTANYAAN**\n",
        "\n",
        "1. Jelaskan detail dari Langkah ketiga pada percobaan 1\n",
        "\n",
        "  **Jawab** : Pada langkah ketiga dilakukan pembuatan fungsi yang akan menelusuri node dengan metode BFS.\n",
        "  - Saat membuat fungsi, fungsi diberi parameter yang berjumlah 3 variabel yaitu visited, graph, serta node.\n",
        "  - Lalu mengappend atau menambahkan node ke variabel visited serta queue\n",
        "  - Setelah itu melakukan perulangan dengan cara nilai queue yang dipop akan disimpan ke dalam s\n",
        "  - Lalu program akan mengprint isi dari variabel s dan akan mengeprint blank space jika sudah habis.\n",
        "  - Kemudian membuat perulangan variabel naighbour di graph, jika variabel neigbour tidak dalam variabel visited maka akan menambahkan variabel neighbour\n",
        "\n",
        "2. Bagaimana hasil penelusuran graf diatas bila node E terhubung dengan node F dan G\n",
        "(neighbour dari E adalah F dan G)? Mengapa?\n",
        "\n",
        "  **Jawab** : Hasil akan berbeda. Jika E tidak bertetangga dengan G maka hasilnya menjadi A B C D E F H G, hal ini dikarenakan E tidak berhubungan dengan G sehingga tidak bisa mencetak G terlebih dahulu. Jika E bertetangga dengan G maka sesuai dengan metode BFS maka G akan dicetak terlebih dahulu sehingga menampilkan A B C D E F G H\n",
        "\n",
        "3. Apakah benar kode di percobaan 1 dan 2 jika bentuk graph seperti itu? Jika tidak benar bagaimana pembetulannya?\n",
        "\n",
        "  **Jawab** : Ya. Sudah benar.\n",
        "\n",
        "\n",
        "\n"
      ],
      "metadata": {
        "id": "MhtKJdLQ-r7L"
      }
    },
    {
      "cell_type": "code",
      "source": [
        "graph = {\n",
        "    'A' : ['B', 'C'],\n",
        "    'B' : ['D', 'E'],\n",
        "    'C' : ['F'],\n",
        "    'D' : [],\n",
        "    'E' : ['F'],\n",
        "    'F' : ['H'],\n",
        "    'G' : ['H'],\n",
        "    'H' : ['G']\n",
        "}\n",
        "\n",
        "visited = set()\n",
        "\n",
        "def dfs (visited, graph, node):\n",
        "  if node not in visited:\n",
        "    print (node)\n",
        "    visited.add(node)\n",
        "    for neighbour in graph[node]:\n",
        "      dfs(visited, graph, neighbour)\n",
        "\n",
        "print(\"Hasil penelusuran graf menggunakan DFS : \")\n",
        "dfs(visited, graph, 'A')"
      ],
      "metadata": {
        "colab": {
          "base_uri": "https://localhost:8080/"
        },
        "id": "Akycsa8m_eXG",
        "outputId": "0df96eaa-78a7-4159-b512-22ec831c71ef"
      },
      "execution_count": 16,
      "outputs": [
        {
          "output_type": "stream",
          "name": "stdout",
          "text": [
            "Hasil penelusuran graf menggunakan DFS : \n",
            "A\n",
            "B\n",
            "D\n",
            "E\n",
            "F\n",
            "H\n",
            "G\n",
            "C\n"
          ]
        }
      ]
    },
    {
      "cell_type": "markdown",
      "source": [
        "**PERTANYAAN**\n",
        "\n",
        "1. Jelaskan secara rinci Langkah ketiga dari percobaan 2!\n",
        "\n",
        "  Jawab : \n",
        "  - Membuat fungsi DFS terlebih dahulu dengan tiga parameter yaitu visited, graph, dan node. \n",
        "  - Lalu dilakukan pemilihan jika node tidak berada dalam visited maka program akan mengeprint node dan menambahkan node ke dalam variabel visited.\n",
        "  - Setelah itu dilakukan perulangan untuk neighbour di dalam graph dan melakukan pemanggilan untuk fungsi DFS itu sendiri.\n",
        "\n",
        "2. Apakah terdapat perbedaan hasil penelusuran bila node B terhubung dengan node C? Mengapa? \n",
        "\n",
        "  **Jawab** : \n",
        "  - Terdapat perbedaan hasil jika node B terhubung dengan node C.\n",
        "  - Hal ini dikarenakan jika node B berhubungan dengan C maka program akan menelusuri node C dan node di bawahnya terlebih dahulu karena metode DFS digunakan untuk menelusuri secara vertikal. Sehingga ditampilkan sebagai berikut A B C F H G D E\n",
        "\n",
        "3. Apakah benar kode di percobaan 1 dan 2 jika bentuk graph seperti itu? Jika tidak benar bagaimana pembetulannya?\n",
        "\n",
        "  **Jawab** : Ya. Sudah benar."
      ],
      "metadata": {
        "id": "6PqP8TScIoZ3"
      }
    },
    {
      "cell_type": "markdown",
      "source": [
        "# **LATIHAN PRAKTIKUM**"
      ],
      "metadata": {
        "id": "OHwCzyhzMekY"
      }
    },
    {
      "cell_type": "code",
      "source": [
        "# TUGAS NO. 1 BFS\n",
        "\n",
        "graph = {\n",
        "    'A' : ['B', 'E', 'F'],\n",
        "    'B' : ['G'],\n",
        "    'C' : ['D', 'G'],\n",
        "    'D' : ['H'],\n",
        "    'E' : ['F'],\n",
        "    'F' : [],\n",
        "    'G' : ['C', 'H'],\n",
        "    'H' : ['D', 'G']\n",
        "}\n",
        "\n",
        "visited = []\n",
        "queue = []\n",
        "\n",
        "def bfs (visited, graph, node):\n",
        "  visited.append(node)\n",
        "  queue.append(node)\n",
        "\n",
        "  while queue :\n",
        "    s = queue.pop(0)\n",
        "    print (s, end = \" \")\n",
        "\n",
        "    for neighbour in graph[s]:\n",
        "      if neighbour not in visited:\n",
        "        visited.append(neighbour)\n",
        "        queue.append(neighbour)\n",
        "\n",
        "print(\"Hasil penelusuran graf menggunakan BFS: \")\n",
        "bfs(visited, graph, 'A')"
      ],
      "metadata": {
        "id": "YhriQtUMMl7X",
        "colab": {
          "base_uri": "https://localhost:8080/"
        },
        "outputId": "612f47ec-db34-4f30-d836-9a7bb4dafb5b"
      },
      "execution_count": 20,
      "outputs": [
        {
          "output_type": "stream",
          "name": "stdout",
          "text": [
            "Hasil penelusuran graf menggunakan BFS: \n",
            "A B E F G C H D "
          ]
        }
      ]
    },
    {
      "cell_type": "code",
      "source": [
        "# TUGAS NO. 2 DFS\n",
        "\n",
        "graph = {\n",
        "    'A' : ['B', 'E', 'F'],\n",
        "    'B' : ['G'],\n",
        "    'C' : ['D', 'G'],\n",
        "    'D' : ['H'],\n",
        "    'E' : ['F'],\n",
        "    'F' : [],\n",
        "    'G' : ['C', 'H'],\n",
        "    'H' : ['D', 'G']\n",
        "}\n",
        "\n",
        "visited = set()\n",
        "\n",
        "def dfs (visited, graph, node):\n",
        "  if node not in visited:\n",
        "    print (node)\n",
        "    visited.add(node)\n",
        "    for neighbour in graph[node]:\n",
        "      dfs(visited, graph, neighbour)\n",
        "\n",
        "print(\"Hasil penelusuran graf menggunakan DFS : \")\n",
        "dfs(visited, graph, 'A')"
      ],
      "metadata": {
        "colab": {
          "base_uri": "https://localhost:8080/"
        },
        "id": "itbxpsFNPHrG",
        "outputId": "477abbb7-f622-48e4-c82f-e590ff134a36"
      },
      "execution_count": 21,
      "outputs": [
        {
          "output_type": "stream",
          "name": "stdout",
          "text": [
            "Hasil penelusuran graf menggunakan DFS : \n",
            "A\n",
            "B\n",
            "G\n",
            "C\n",
            "D\n",
            "H\n",
            "E\n",
            "F\n"
          ]
        }
      ]
    },
    {
      "cell_type": "code",
      "source": [
        "# TUGAS NO 2\n",
        "\n",
        "# MEMBUAT GRAPH\n",
        "\n",
        "graph = {\n",
        "    'A' : ['B'],\n",
        "    'B' : ['F', 'G'],\n",
        "    'C' : ['D'],\n",
        "    'D' : ['H'],\n",
        "    'E' : [],\n",
        "    'F' : ['E'],\n",
        "    'G' : [],\n",
        "    'H' : ['D']\n",
        "}\n",
        "\n",
        "## Membuat metode BFS\n",
        "\n",
        "from queue import Queue\n",
        "graph = {\n",
        "    'A' : ['B'],\n",
        "    'B' : ['A','F','G'],\n",
        "    'C' : ['D','G'],\n",
        "    'D' : ['C','H'],\n",
        "    'E' : ['F'],\n",
        "    'F' : ['B','E'],\n",
        "    'G' : ['B','C'],\n",
        "    'H' : ['D']\n",
        "}\n",
        "\n",
        "visited = {}\n",
        "level = {}\n",
        "parent = {}\n",
        "bfs = []\n",
        "queue = Queue()\n",
        "\n",
        "for node in graph.keys():\n",
        "    visited[node] = False\n",
        "    parent[node] = None\n",
        "    level[node] = -1\n",
        "    \n",
        "s = \"A\"\n",
        "visited[s] = True\n",
        "level[s] = 0\n",
        "queue.put(s)\n",
        "\n",
        "while not queue.empty():\n",
        "    u = queue.get()\n",
        "    bfs.append(u)\n",
        "    \n",
        "    for v in graph[u]:\n",
        "        if not visited[v]:\n",
        "            visited[v] = True\n",
        "            parent[v] = u\n",
        "            level[v] = level[u]+1\n",
        "            queue.put(v)\n",
        "            \n",
        "print(\"Hasil penelusuran graf menggunakan BFS : \")\n",
        "print(bfs)\n",
        "\n",
        "v = \"D\"\n",
        "path = []\n",
        "while v is not None:\n",
        "    path.append(v)\n",
        "    v = parent[v]\n",
        "path.reverse()\n",
        "\n",
        "print(\"\\nHasil penelusuran huruf 'D' graf menggunakan BFS :\\n\", path)\n",
        "\n",
        "## Membuat metode DFS\n",
        "\n",
        "color = {}\n",
        "parent = {}\n",
        "trav_time = {}\n",
        "dfs = []\n",
        "\n",
        "for node in graph.keys():\n",
        "    color[node] = \"W\"\n",
        "    parent[node] = None\n",
        "    trav_time[node] = [-1, -1]\n",
        "    \n",
        "time = 0\n",
        "def dfs_util(u):\n",
        "    global time\n",
        "    color[u] = \"G\"\n",
        "    trav_time[u][0] = time\n",
        "    dfs.append(u)\n",
        "    \n",
        "    for v in graph[u]:\n",
        "        if color[v] == \"W\":\n",
        "            parent[v] = u\n",
        "            dfs_util(v)\n",
        "    color[u] = \"B\"\n",
        "    trav_time[u][1] = time\n",
        "    time += 1\n",
        "    \n",
        "print(\"\\n\\nHasil penelusuran graf menggunakan DFS : \")\n",
        "dfs_util(\"A\")\n",
        "print(dfs)\n",
        "\n",
        "v = \"D\"\n",
        "path = []\n",
        "while v is not None:\n",
        "    path.append(v)\n",
        "    v = parent[v]\n",
        "path.reverse()\n",
        "\n",
        "print(\"\\nHasil penelusuran huruf 'D' graf menggunakan DFS :\")\n",
        "print(path)"
      ],
      "metadata": {
        "colab": {
          "base_uri": "https://localhost:8080/"
        },
        "id": "Mc_NTa2oP0PQ",
        "outputId": "5bd41dad-a3a1-4ca9-d118-77debe8d029e"
      },
      "execution_count": 28,
      "outputs": [
        {
          "output_type": "stream",
          "name": "stdout",
          "text": [
            "Hasil penelusuran graf menggunakan BFS : \n",
            "['A', 'B', 'F', 'G', 'E', 'C', 'D', 'H']\n",
            "\n",
            "Hasil penelusuran huruf 'D' graf menggunakan BFS :\n",
            " ['A', 'B', 'G', 'C', 'D']\n",
            "\n",
            "\n",
            "Hasil penelusuran graf menggunakan DFS : \n",
            "['A', 'B', 'F', 'E', 'G', 'C', 'D', 'H']\n",
            "\n",
            "Hasil penelusuran huruf 'D' graf menggunakan DFS :\n",
            "['A', 'B', 'G', 'C', 'D']\n"
          ]
        }
      ]
    },
    {
      "cell_type": "markdown",
      "source": [
        "**PERTANYAAN TUGAS 2 POIN C**\n",
        "\n",
        "3. Mana yang lebih efektif? Mengapa? \n",
        " \n",
        "  Jawab : \n",
        "  - Efektif menggunakan DFS karena BFS membutuhkan waktu yang lebih lama untuk melakukan pencarian dan menelusuri node satu persatu dengan cara mendatar. Sedangkan DFS menelusuri setiap node secara mendalam dan tidak membutuhkan waktu yang lama."
      ],
      "metadata": {
        "id": "7XazDEpaSTMl"
      }
    }
  ]
}